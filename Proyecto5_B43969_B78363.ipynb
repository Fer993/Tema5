{
 "cells": [
  {
   "cell_type": "markdown",
   "metadata": {
    "id": "E9NqO8-Md3kd"
   },
   "source": [
    "---\n",
    "### Universidad de Costa Rica\n",
    "#### IE0405 - Modelos Probabilísticos de Señales y Sistemas\n",
    "---\n",
    "\n",
    "- Estudiante: **Fernanda Villalobos Vargas**\n",
    "- Carné: **B78363**\n",
    "- Grupo: **2**\n",
    "- Estudiante: **David Enrique Madrigal Solís**\n",
    "- Carné: **B43969**\n",
    "- Grupo: **1**\n",
    "\n"
   ]
  },
  {
   "cell_type": "markdown",
   "metadata": {
    "id": "9nJzPGFUd3kf"
   },
   "source": [
    "---\n",
    "\n",
    "# `P5` - *Procesos M/M/s*\n",
    "\n",
    "## 1. Sistemas M/M/1\n",
    "\n",
    "Es menester tomar una decisión con respecto al número de \"servidores\" necesarios para cierto proceso de vacunación, de forma tal que el sistema no exceda 50 personas en fila durante el 95% del tiempo de servicio. \n",
    "\n",
    "En un estudio de afluencia y del tiempo de servicio se asumen y determinan los siguientes parámetros:\n",
    "\n",
    "- La tasa de llegada $\\lambda$ es constante durante ocho horas de funcionamiento y tiene un valor de $\\lambda = 4$ personas por minuto.\n",
    "\n",
    "- La tasa de servicio $\\nu$ de cada \"servidor\" (es decir, personal de salud tomando datos y vacunando) es constante durante ocho horas de funcionamiento y tiene un valor de $\\nu = 0.25$ personas por minuto.\n"
   ]
  },
  {
   "cell_type": "markdown",
   "metadata": {
    "id": "zwDkPDYAfEmN"
   },
   "source": [
    "---\n",
    "> ### (40%) Hacer la determinación teórica del número $s$ de servidores necesarios para cumplir el requisito."
   ]
  },
  {
   "cell_type": "markdown",
   "metadata": {
    "id": "ENwgmwrNd3kg"
   },
   "source": [
    "La ecuación para definir $\\rho$ es la siguiente:\n",
    "\n",
    "$$\n",
    "\\rho = \\frac{\\lambda}{\\nu \\cdot s}\n",
    "$$\n",
    "\n",
    "Al sustituir los valores por los dados en el enunciado se tiene que:\n",
    "\n",
    "$$\n",
    "\\rho = \\frac{4}{0.25 \\cdot s} = \\frac{16}{s}\n",
    "$$\n",
    "\n",
    "Se cosidera la condición de menor ruptura, como semuestra a continuación:\n",
    "\n",
    "$$\n",
    "P( \\text{51 o más clientes en el sistema} ) = \\sum_{i=51}^{\\infty} (1 - \\rho) \\rho^i  = 1 - \\sum_{i=0}^{50} (1 - \\rho) \\rho^i = \\rho^{51}\n",
    "$$\n",
    "\n",
    "Tomando en cuenta el 5% que proporciona la condición de ruptura se dice\n",
    "\n",
    "$$\n",
    "\\left( \\frac{16}{s} \\right)^{51} \\leq 0.05\n",
    "$$\n",
    "\n",
    "Al despejar la $s$ tenemos\n",
    "\n",
    "$$\n",
    "\\left( \\frac{16^{51}}{0.05} \\right) \\leq s^{51}\n",
    "$$\n",
    "\n",
    "$$\n",
    "\\Rightarrow 16.97  \\leq s\n",
    "$$\n",
    "\n",
    "El número de servidores debe tener al menos 17 para se cumpla la condición de 50 personas en la cola en 95% del tiempo."
   ]
  },
  {
   "cell_type": "markdown",
   "metadata": {
    "id": "1zOFpzFtd3kg"
   },
   "source": [
    "---\n",
    "> ### (60%) Modificar el código provisto para simular y corroborar el resultado anterior y crear al menos dos gráficas que muestren esta simulación."
   ]
  },
  {
   "cell_type": "code",
   "execution_count": 1,
   "metadata": {
    "id": "vwKExph_d3kh"
   },
   "outputs": [],
   "source": [
    "import numpy as np\n",
    "from scipy import stats\n",
    "import matplotlib.pyplot as plt\n",
    "\n",
    "def simulaciones(Sim, N, lam, v, s):\n",
    "\n",
    "    nu = (v*s)/60\n",
    "\n",
    "    # Distribución de los tiempos de llegada entre cada cliente\n",
    "    X = stats.expon(scale = 1/lam)\n",
    "\n",
    "    # Distribución de los tiempos de servicio a cada cliente\n",
    "    Y = stats.expon(scale = 1/nu)\n",
    "\n",
    "    # Intervalos entre llegadas (segundos desde último cliente)\n",
    "    t_intervalos = np.ceil(X.rvs(N)).astype('int')\n",
    "\n",
    "    # Tiempos de las llegadas (segundos desde el inicio)\n",
    "    t_llegadas = [t_intervalos[0]]\n",
    "    for i in range(1, len(t_intervalos)):\n",
    "        siguiente = t_llegadas[i-1] + t_intervalos[i]\n",
    "        t_llegadas.append(siguiente)\n",
    "\n",
    "    # Tiempos de servicio (segundos desde inicio de servicio)\n",
    "    t_servicio = np.ceil(Y.rvs(N)).astype('int')\n",
    "\n",
    "    # Inicialización del tiempo de inicio y fin de atención\n",
    "    inicio = t_llegadas[0]          # primera llegada\n",
    "    fin = inicio + t_servicio[0]    # primera salida\n",
    "\n",
    "    # Tiempos en que recibe atención cada i-ésimo cliente (!= que llega)\n",
    "    t_atencion = [inicio]\n",
    "    for i in range(1, N):\n",
    "        inicio = np.max((t_llegadas[i], fin))\n",
    "        fin = inicio + t_servicio[i]\n",
    "        t_atencion.append(inicio)\n",
    "\n",
    "    # Inicialización del vector temporal para registrar eventos\n",
    "    t = np.zeros(t_atencion[-1] + t_servicio[-1] + 1)\n",
    "\n",
    "    # Asignación de eventos de llegada (+1) y salida (-1) de clientes\n",
    "    for c in range(N):\n",
    "        i = t_llegadas[c]\n",
    "        t[i] += 1\n",
    "        j = t_atencion[c] + t_servicio[c]\n",
    "        t[j] -= 1\n",
    "\n",
    "    # Umbral de P o más personas en sistema (hay P - 1 en fila)\n",
    "    P = 51\n",
    "\n",
    "    # Instantes (segundos) de tiempo con P o más solicitudes en sistema\n",
    "    exceso = 0\n",
    "\n",
    "    # Proceso aleatorio (estados n = {0, 1, 2...})\n",
    "    Xt = np.zeros(t.shape)\n",
    "\n",
    "    # Inicialización de estado n\n",
    "    n = 0\n",
    "\n",
    "    # Recorrido del vector temporal y conteo de clientes (estado n)\n",
    "    for i, c in enumerate(t):\n",
    "        n += c # sumar (+1) o restar (-1) al estado\n",
    "        Xt[i] = n\n",
    "        if Xt[i] >= P: \n",
    "            exceso += 1\n",
    "\n",
    "    # Fracción de tiempo con P o más solicitudes en sistema\n",
    "    fraccion = exceso / len(t)\n",
    "    '''\n",
    "    # Resultados\n",
    "    print('Parámetro lambda =', str(lam*60))\n",
    "    print('Parámetro nu*s =', str(nu*60))\n",
    "    print('Tiempo con más de {} solicitudes en fila:'.format(P-1))\n",
    "    print('\\t {:0.2f}%'.format(100*fraccion)) \n",
    "    '''\n",
    "    # Para mostrar los resultados de las simulaciones\n",
    "    print('1.Simulación {}'.format(Sim))\n",
    "    print('2.Parámetro de lambda =', str(lam*60))\n",
    "    print('3.Parámetro de v =', str(v))\n",
    "    print('4.Servidores de s =', str(s))\n",
    "    print('5.Tiempo menor o igual a {} solicitudes en la fila:'.format(P))\n",
    "    print('\\t {:0.2f}%'.format(100*fraccion))\n",
    "\n",
    "\n",
    "    if fraccion <= 0.05:\n",
    "        print('\\t Sí cumple con la especificación.')\n",
    "    else:\n",
    "        print('\\t No cumple con la especificación.') \n",
    "    print('Simulación es equivalente a {:0.2f} horas.'.format(len(t)/3600))\n",
    "\n",
    "    # Gráfica de X(t) (estados del sistema)\n",
    "    plt.figure()\n",
    "    plt.plot(Xt)\n",
    "    plt.plot(range(len(t)), (P-1)*np.ones(t.shape))\n",
    "    plt.title('Simulación {}: Comprobación de solicitudes con {} Servidores'.format(Sim, s))\n",
    "    plt.legend(('$X(t) = n$', '$L_q = $' + str(P)))\n",
    "    plt.ylabel('Clientes en el sistema, $n$')\n",
    "    plt.xlabel('Tiempo, $t$ / segundos')\n",
    "    plt.xlim((0, 15000))\n",
    "    plt.show()"
   ]
  },
  {
   "cell_type": "markdown",
   "metadata": {
    "id": "zppZbiMjd3ki"
   },
   "source": [
    "Para el éxito se debe de confirmar que $17 \\leq s$, por lo tanto se harán tres simulaciones para poder corroborarlo.\n",
    "\n",
    "#### Para la primer simulación se dice que s = 14.\n"
   ]
  },
  {
   "cell_type": "code",
   "execution_count": 2,
   "metadata": {
    "colab": {
     "base_uri": "https://localhost:8080/",
     "height": 438
    },
    "id": "0q_HUHIHd3ki",
    "outputId": "f9739962-cebd-42e5-8979-37d49a034115"
   },
   "outputs": [
    {
     "name": "stdout",
     "output_type": "stream",
     "text": [
      "1.Simulación 1\n",
      "2.Parámetro de lambda = 4.0\n",
      "3.Parámetro de v = 0.25\n",
      "4.Servidores de s = 14\n",
      "5.Tiempo menor o igual a 51 solicitudes en la fila:\n",
      "\t 59.46%\n",
      "\t No cumple con la especificación.\n",
      "Simulación es equivalente a 4.84 horas.\n"
     ]
    },
    {
     "data": {
      "image/png": "[encoded data removed]",
      "text/plain": [
       "<Figure size 432x288 with 1 Axes>"
      ]
     },
     "metadata": {
      "needs_background": "light"
     },
     "output_type": "display_data"
    }
   ],
   "source": [
    "# Número de clientes\n",
    "N = 1000\n",
    "\n",
    "# Parámetro de llegada (clientes/segundos)\n",
    "L = 4/60\n",
    "\n",
    "# Parámetro de servicio (servicios/segundos)\n",
    "v = 0.25\n",
    "\n",
    "# Para a primer simulación\n",
    "Sim = 1\n",
    "\n",
    "# Número de servidores obtenidos teóricamente para cumplir requerimientos\n",
    "s = 14\n",
    "\n",
    "# Para simula y comprobar el resultado teórico\n",
    "simulaciones(Sim, N, L, v, s)"
   ]
  },
  {
   "cell_type": "markdown",
   "metadata": {
    "id": "zMoGkliKd3kj"
   },
   "source": [
    "#### Para la segunda simulación se dice que s = 17."
   ]
  },
  {
   "cell_type": "code",
   "execution_count": 3,
   "metadata": {
    "colab": {
     "base_uri": "https://localhost:8080/",
     "height": 438
    },
    "id": "iBCr82FTd3kk",
    "outputId": "a5692c54-9c18-48ce-83d5-e60c54e48348"
   },
   "outputs": [
    {
     "name": "stdout",
     "output_type": "stream",
     "text": [
      "1.Simulación 2\n",
      "2.Parámetro de lambda = 4.0\n",
      "3.Parámetro de v = 0.25\n",
      "4.Servidores de s = 17\n",
      "5.Tiempo menor o igual a 51 solicitudes en la fila:\n",
      "\t 0.81%\n",
      "\t Sí cumple con la especificación.\n",
      "Simulación es equivalente a 4.40 horas.\n"
     ]
    },
    {
     "data": {
      "image/png": "[encoded data removed]",
      "text/plain": [
       "<Figure size 432x288 with 1 Axes>"
      ]
     },
     "metadata": {
      "needs_background": "light"
     },
     "output_type": "display_data"
    }
   ],
   "source": [
    "# Número de clientes\n",
    "N = 1000\n",
    "\n",
    "# Parámetro de llegada (clientes/segundos)\n",
    "L = 4/60\n",
    "\n",
    "# Parámetro de servicio (servicios/segundos)\n",
    "v = 0.25\n",
    "\n",
    "# Para a primer simulación\n",
    "Sim = 2\n",
    "\n",
    "# Número de servidores obtenidos teóricamente para cumplir requerimientos\n",
    "s = 17\n",
    "\n",
    "# Para simula y comprobar el resultado teórico\n",
    "simulaciones(Sim, N, L, v, s)"
   ]
  },
  {
   "cell_type": "markdown",
   "metadata": {
    "id": "W3o_8EAad3kk"
   },
   "source": [
    "#### Para la tercer simulación se dice que s = 47."
   ]
  },
  {
   "cell_type": "code",
   "execution_count": 4,
   "metadata": {
    "colab": {
     "base_uri": "https://localhost:8080/",
     "height": 438
    },
    "id": "cfXIOdGcd3kk",
    "outputId": "1d1b1f11-c526-494d-f656-2db02583358e"
   },
   "outputs": [
    {
     "name": "stdout",
     "output_type": "stream",
     "text": [
      "1.Simulación 3\n",
      "2.Parámetro de lambda = 4.0\n",
      "3.Parámetro de v = 0.25\n",
      "4.Servidores de s = 47\n",
      "5.Tiempo menor o igual a 51 solicitudes en la fila:\n",
      "\t 0.00%\n",
      "\t Sí cumple con la especificación.\n",
      "Simulación es equivalente a 4.36 horas.\n"
     ]
    },
    {
     "data": {
      "image/png": "[encoded data removed]",
      "text/plain": [
       "<Figure size 432x288 with 1 Axes>"
      ]
     },
     "metadata": {
      "needs_background": "light"
     },
     "output_type": "display_data"
    }
   ],
   "source": [
    "# Número de clientes\n",
    "N = 1000\n",
    "\n",
    "# Parámetro de llegada (clientes/segundos)\n",
    "L = 4/60\n",
    "\n",
    "# Parámetro de servicio (servicios/segundos)\n",
    "v = 0.25\n",
    "\n",
    "# Para a tercera simulación\n",
    "Sim = 3\n",
    "\n",
    "# Número de servidores obtenidos teóricamente para cumplir requerimientos\n",
    "s = 47\n",
    "\n",
    "# Para simula y comprobar el resultado teórico\n",
    "simulaciones(Sim, N, L, v, s)"
   ]
  },
  {
   "cell_type": "markdown",
   "metadata": {
    "id": "qJ9xhbIgd3kk"
   },
   "source": [
    "---\n",
    "\n",
    "**Universidad de Costa Rica**\n",
    "\n",
    "Facultad de Ingeniería\n",
    "\n",
    "Escuela de Ingeniería Eléctrica\n",
    "\n",
    "---"
   ]
  }
 ],
 "metadata": {
  "colab": {
   "name": "P5.ipynb",
   "provenance": []
  },
  "kernelspec": {
   "display_name": "Python 3",
   "language": "python",
   "name": "python3"
  },
  "language_info": {
   "codemirror_mode": {
    "name": "ipython",
    "version": 3
   },
   "file_extension": ".py",
   "mimetype": "text/x-python",
   "name": "python",
   "nbconvert_exporter": "python",
   "pygments_lexer": "ipython3",
   "version": "3.8.8"
  }
 },
 "nbformat": 4,
 "nbformat_minor": 1
}
